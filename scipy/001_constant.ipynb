{
 "cells": [
  {
   "cell_type": "code",
   "execution_count": 1,
   "metadata": {},
   "outputs": [],
   "source": [
    "%matplotlib inline\n",
    "import scipy\n",
    "from scipy import  constants"
   ]
  },
  {
   "cell_type": "code",
   "execution_count": 2,
   "metadata": {},
   "outputs": [
    {
     "name": "stdout",
     "output_type": "stream",
     "text": [
      "6.6743e-11\n",
      "299792458.0\n"
     ]
    }
   ],
   "source": [
    "Gravity = constants.G\n",
    "light_speed = constants.c\n",
    "print(Gravity)\n",
    "print(light_speed)\n"
   ]
  }
 ],
 "metadata": {
  "kernelspec": {
   "display_name": "SciPy",
   "language": "python",
   "name": "python3"
  },
  "language_info": {
   "codemirror_mode": {
    "name": "ipython",
    "version": 3
   },
   "file_extension": ".py",
   "mimetype": "text/x-python",
   "name": "python",
   "nbconvert_exporter": "python",
   "pygments_lexer": "ipython3",
   "version": "3.10.8"
  },
  "orig_nbformat": 4,
  "vscode": {
   "interpreter": {
    "hash": "75e5f8bb5d05c5d886710f613a1bbd12ab869c32d16cc32e070e9b4990cb4133"
   }
  }
 },
 "nbformat": 4,
 "nbformat_minor": 2
}
